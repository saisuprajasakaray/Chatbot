{
  "cells": [
    {
      "cell_type": "markdown",
      "metadata": {
        "id": "view-in-github",
        "colab_type": "text"
      },
      "source": [
        "<a href=\"https://colab.research.google.com/github/saisuprajasakaray/Chatbot/blob/main/chatbotnltk.ipynb\" target=\"_parent\"><img src=\"https://colab.research.google.com/assets/colab-badge.svg\" alt=\"Open In Colab\"/></a>"
      ]
    },
    {
      "cell_type": "code",
      "execution_count": null,
      "metadata": {
        "id": "CjlU_Mf8qR66"
      },
      "outputs": [],
      "source": []
    },
    {
      "cell_type": "code",
      "execution_count": null,
      "metadata": {
        "colab": {
          "background_save": true,
          "base_uri": "https://localhost:8080/"
        },
        "id": "zSjgyki3qcQB",
        "outputId": "199c3cc8-b26b-42f0-e828-e46c247e0c5d"
      },
      "outputs": [
        {
          "name": "stderr",
          "output_type": "stream",
          "text": [
            "[nltk_data] Downloading package punkt to /root/nltk_data...\n",
            "[nltk_data]   Package punkt is already up-to-date!\n"
          ]
        },
        {
          "name": "stdout",
          "output_type": "stream",
          "text": [
            "chatbot-> Be calm and tell me what to do\n"
          ]
        }
      ],
      "source": [
        "import nltk\n",
        "import random\n",
        "from sklearn.feature_extraction.text import TfidfVectorizer\n",
        "from sklearn.linear_model import LogisticRegression\n",
        "nltk.download(\"punkt\")\n",
        "\n",
        "intents = [\n",
        "    {\n",
        "        \"tag\": \"greeting\",\n",
        "        \"patterns\": [\"Hi\", \"Hello\",\"Hey\", \"How are you\", \"What's up\"],\n",
        "        \"responses\":[\"Hi there\", \"Hello\", \"Hey\", \"I am fine\", \"Thank you\", \"Nothing much\"]\n",
        "    },\n",
        "    {\n",
        "        \"tag\": \"goodbye\",\n",
        "        \"patterns\": [\"Bye\", \"See you later\", \"Goodbye\", \"Take care\"],\n",
        "        \"responses\": [\"Goodbye\", \"See you later\", \"Take care\"]\n",
        "    },\n",
        "    {\n",
        "        \"tag\": \"thanks\",\n",
        "        \"patterns\": [\"Thank you\", \"Thanks\", \"Thanks a lot\", \"I appreciate it\"],\n",
        "        \"responses\": [\"You're welcome\", \"No problem\", \"Glad I could help\"]\n",
        "    },\n",
        "    {\n",
        "        \"tag\": \"about\",\n",
        "        \"patterns\":[\"What can you do\", \"Who are you\", \"What are you\", \"What is your purpose\"],\n",
        "        \"responses\": [\"I am a chatbot\", \"My purpose is to assist you\" , \"I can answer your questions\"]\n",
        "    },\n",
        "    {\n",
        "        \"tag\": \"help\",\n",
        "        \"patterns\":[\"Help\", \"I need help\", \"Can you help me\", \"What should I do\"],\n",
        "        \"responses\": [\"Sure, What do you need help with\", \"I am here to help what is the problem\" , \"Be calm and tell me what to do\"]\n",
        "    },\n",
        "    {\n",
        "        \"tag\": \"age\",\n",
        "        \"patterns\":[\"How old are you\", \"What is your age\"],\n",
        "        \"responses\": [\"I do not have an age. I am a chatbot\", \"I was just born in the digital world\" , \"How do you calculate a code's age\"]\n",
        "    },\n",
        "    {\n",
        "        \"tag\": \"weather\",\n",
        "        \"patterns\":[\"What's the weather like\" , \"How's the weather today\"],\n",
        "        \"responses\": [\"I'm sorry I cannot provide real time weather information\"]\n",
        "    },\n",
        "    {\n",
        "        \"tag\": \"budget\",\n",
        "        \"patterns\":[\"How can i make a budget\", \"What's a good budgeting strategy\", \"How do I create a budget\"],\n",
        "        \"responses\": [\"To make a budget, start by tracking your income and expenses. Then allocate according to the needs.\"]\n",
        "    },\n",
        "    {\n",
        "        \"tag\": \"credit score\",\n",
        "        \"patterns\":[\"What is a credit score\", \"How do i check my credit score\", \"How can i improve my credit score\"],\n",
        "        \"responses\": [\"A credit score is a number that represents your credit worthiness. It is based on your expenses on your credit car\"]\n",
        "    }\n",
        "]\n",
        "vectorizer = TfidfVectorizer()\n",
        "\n",
        "classifier = LogisticRegression(random_state=0, max_iter = 10000)\n",
        "tags=[]\n",
        "patterns=[]\n",
        "\n",
        "for i in intents:\n",
        "    for patern in i['patterns']:\n",
        "        tags.append(i[\"tag\"]);\n",
        "        patterns.append(patern)\n",
        "x=vectorizer.fit_transform(patterns)\n",
        "y=tags\n",
        "classifier.fit(x,y)\n",
        "\n",
        "\n",
        "def chatbot_response(text):\n",
        "    input_text = vectorizer.transform([text])\n",
        "    tagsdata = classifier.predict(input_text)[0]\n",
        "    for i in intents:\n",
        "        if i[\"tag\"] == tagsdata:\n",
        "            response = random.choice(i['responses'])\n",
        "            return response\n",
        "while True:\n",
        "  query = input(\"user-> \")\n",
        "  output = chatbot_response(query)\n",
        "  print(\"chatbot-> {}\".format(output))\n",
        "\n",
        "\n"
      ]
    }
  ],
  "metadata": {
    "colab": {
      "provenance": [],
      "authorship_tag": "ABX9TyPWLGq2mRi1GD+5ilx6JNlU",
      "include_colab_link": true
    },
    "kernelspec": {
      "display_name": "Python 3",
      "name": "python3"
    },
    "language_info": {
      "name": "python"
    }
  },
  "nbformat": 4,
  "nbformat_minor": 0
}